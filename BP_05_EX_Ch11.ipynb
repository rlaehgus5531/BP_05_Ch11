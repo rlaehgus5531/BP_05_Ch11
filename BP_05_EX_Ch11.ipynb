{
  "nbformat": 4,
  "nbformat_minor": 0,
  "metadata": {
    "colab": {
      "provenance": [],
      "authorship_tag": "ABX9TyOP6Jt6yKLvheXnpCu0ykIr",
      "include_colab_link": true
    },
    "kernelspec": {
      "name": "python3",
      "display_name": "Python 3"
    },
    "language_info": {
      "name": "python"
    }
  },
  "cells": [
    {
      "cell_type": "markdown",
      "metadata": {
        "id": "view-in-github",
        "colab_type": "text"
      },
      "source": [
        "<a href=\"https://colab.research.google.com/github/rlaehgus5531/BP_05_Ch11/blob/main/BP_05_EX_Ch11.ipynb\" target=\"_parent\"><img src=\"https://colab.research.google.com/assets/colab-badge.svg\" alt=\"Open In Colab\"/></a>"
      ]
    },
    {
      "cell_type": "markdown",
      "source": [
        "1.사용자가 입력한 텍스트 파일을 열어서 파일안에 글자가 몇개나 있는지를 계산하는 프로그램을 작성하라"
      ],
      "metadata": {
        "id": "YMW-IpyJSAsm"
      }
    },
    {
      "cell_type": "code",
      "execution_count": 2,
      "metadata": {
        "colab": {
          "base_uri": "https://localhost:8080/",
          "height": 113
        },
        "id": "LhsSqnB4OqOi",
        "outputId": "dfd69006-e982-46e2-b59a-40b06fddefdf"
      },
      "outputs": [
        {
          "output_type": "display_data",
          "data": {
            "text/plain": [
              "<IPython.core.display.HTML object>"
            ],
            "text/html": [
              "\n",
              "     <input type=\"file\" id=\"files-87ba9dbd-eedc-40ac-a22d-6fe20f67ea4c\" name=\"files[]\" multiple disabled\n",
              "        style=\"border:none\" />\n",
              "     <output id=\"result-87ba9dbd-eedc-40ac-a22d-6fe20f67ea4c\">\n",
              "      Upload widget is only available when the cell has been executed in the\n",
              "      current browser session. Please rerun this cell to enable.\n",
              "      </output>\n",
              "      <script>// Copyright 2017 Google LLC\n",
              "//\n",
              "// Licensed under the Apache License, Version 2.0 (the \"License\");\n",
              "// you may not use this file except in compliance with the License.\n",
              "// You may obtain a copy of the License at\n",
              "//\n",
              "//      http://www.apache.org/licenses/LICENSE-2.0\n",
              "//\n",
              "// Unless required by applicable law or agreed to in writing, software\n",
              "// distributed under the License is distributed on an \"AS IS\" BASIS,\n",
              "// WITHOUT WARRANTIES OR CONDITIONS OF ANY KIND, either express or implied.\n",
              "// See the License for the specific language governing permissions and\n",
              "// limitations under the License.\n",
              "\n",
              "/**\n",
              " * @fileoverview Helpers for google.colab Python module.\n",
              " */\n",
              "(function(scope) {\n",
              "function span(text, styleAttributes = {}) {\n",
              "  const element = document.createElement('span');\n",
              "  element.textContent = text;\n",
              "  for (const key of Object.keys(styleAttributes)) {\n",
              "    element.style[key] = styleAttributes[key];\n",
              "  }\n",
              "  return element;\n",
              "}\n",
              "\n",
              "// Max number of bytes which will be uploaded at a time.\n",
              "const MAX_PAYLOAD_SIZE = 100 * 1024;\n",
              "\n",
              "function _uploadFiles(inputId, outputId) {\n",
              "  const steps = uploadFilesStep(inputId, outputId);\n",
              "  const outputElement = document.getElementById(outputId);\n",
              "  // Cache steps on the outputElement to make it available for the next call\n",
              "  // to uploadFilesContinue from Python.\n",
              "  outputElement.steps = steps;\n",
              "\n",
              "  return _uploadFilesContinue(outputId);\n",
              "}\n",
              "\n",
              "// This is roughly an async generator (not supported in the browser yet),\n",
              "// where there are multiple asynchronous steps and the Python side is going\n",
              "// to poll for completion of each step.\n",
              "// This uses a Promise to block the python side on completion of each step,\n",
              "// then passes the result of the previous step as the input to the next step.\n",
              "function _uploadFilesContinue(outputId) {\n",
              "  const outputElement = document.getElementById(outputId);\n",
              "  const steps = outputElement.steps;\n",
              "\n",
              "  const next = steps.next(outputElement.lastPromiseValue);\n",
              "  return Promise.resolve(next.value.promise).then((value) => {\n",
              "    // Cache the last promise value to make it available to the next\n",
              "    // step of the generator.\n",
              "    outputElement.lastPromiseValue = value;\n",
              "    return next.value.response;\n",
              "  });\n",
              "}\n",
              "\n",
              "/**\n",
              " * Generator function which is called between each async step of the upload\n",
              " * process.\n",
              " * @param {string} inputId Element ID of the input file picker element.\n",
              " * @param {string} outputId Element ID of the output display.\n",
              " * @return {!Iterable<!Object>} Iterable of next steps.\n",
              " */\n",
              "function* uploadFilesStep(inputId, outputId) {\n",
              "  const inputElement = document.getElementById(inputId);\n",
              "  inputElement.disabled = false;\n",
              "\n",
              "  const outputElement = document.getElementById(outputId);\n",
              "  outputElement.innerHTML = '';\n",
              "\n",
              "  const pickedPromise = new Promise((resolve) => {\n",
              "    inputElement.addEventListener('change', (e) => {\n",
              "      resolve(e.target.files);\n",
              "    });\n",
              "  });\n",
              "\n",
              "  const cancel = document.createElement('button');\n",
              "  inputElement.parentElement.appendChild(cancel);\n",
              "  cancel.textContent = 'Cancel upload';\n",
              "  const cancelPromise = new Promise((resolve) => {\n",
              "    cancel.onclick = () => {\n",
              "      resolve(null);\n",
              "    };\n",
              "  });\n",
              "\n",
              "  // Wait for the user to pick the files.\n",
              "  const files = yield {\n",
              "    promise: Promise.race([pickedPromise, cancelPromise]),\n",
              "    response: {\n",
              "      action: 'starting',\n",
              "    }\n",
              "  };\n",
              "\n",
              "  cancel.remove();\n",
              "\n",
              "  // Disable the input element since further picks are not allowed.\n",
              "  inputElement.disabled = true;\n",
              "\n",
              "  if (!files) {\n",
              "    return {\n",
              "      response: {\n",
              "        action: 'complete',\n",
              "      }\n",
              "    };\n",
              "  }\n",
              "\n",
              "  for (const file of files) {\n",
              "    const li = document.createElement('li');\n",
              "    li.append(span(file.name, {fontWeight: 'bold'}));\n",
              "    li.append(span(\n",
              "        `(${file.type || 'n/a'}) - ${file.size} bytes, ` +\n",
              "        `last modified: ${\n",
              "            file.lastModifiedDate ? file.lastModifiedDate.toLocaleDateString() :\n",
              "                                    'n/a'} - `));\n",
              "    const percent = span('0% done');\n",
              "    li.appendChild(percent);\n",
              "\n",
              "    outputElement.appendChild(li);\n",
              "\n",
              "    const fileDataPromise = new Promise((resolve) => {\n",
              "      const reader = new FileReader();\n",
              "      reader.onload = (e) => {\n",
              "        resolve(e.target.result);\n",
              "      };\n",
              "      reader.readAsArrayBuffer(file);\n",
              "    });\n",
              "    // Wait for the data to be ready.\n",
              "    let fileData = yield {\n",
              "      promise: fileDataPromise,\n",
              "      response: {\n",
              "        action: 'continue',\n",
              "      }\n",
              "    };\n",
              "\n",
              "    // Use a chunked sending to avoid message size limits. See b/62115660.\n",
              "    let position = 0;\n",
              "    do {\n",
              "      const length = Math.min(fileData.byteLength - position, MAX_PAYLOAD_SIZE);\n",
              "      const chunk = new Uint8Array(fileData, position, length);\n",
              "      position += length;\n",
              "\n",
              "      const base64 = btoa(String.fromCharCode.apply(null, chunk));\n",
              "      yield {\n",
              "        response: {\n",
              "          action: 'append',\n",
              "          file: file.name,\n",
              "          data: base64,\n",
              "        },\n",
              "      };\n",
              "\n",
              "      let percentDone = fileData.byteLength === 0 ?\n",
              "          100 :\n",
              "          Math.round((position / fileData.byteLength) * 100);\n",
              "      percent.textContent = `${percentDone}% done`;\n",
              "\n",
              "    } while (position < fileData.byteLength);\n",
              "  }\n",
              "\n",
              "  // All done.\n",
              "  yield {\n",
              "    response: {\n",
              "      action: 'complete',\n",
              "    }\n",
              "  };\n",
              "}\n",
              "\n",
              "scope.google = scope.google || {};\n",
              "scope.google.colab = scope.google.colab || {};\n",
              "scope.google.colab._files = {\n",
              "  _uploadFiles,\n",
              "  _uploadFilesContinue,\n",
              "};\n",
              "})(self);\n",
              "</script> "
            ]
          },
          "metadata": {}
        },
        {
          "output_type": "stream",
          "name": "stdout",
          "text": [
            "Saving word.txt to word (1).txt\n",
            "파일 이름을 입력하세요: word.txt\n",
            "파일 안에는 총  232 개의 글자가 있습니다.\n"
          ]
        }
      ],
      "source": [
        "from google.colab import files \n",
        "uploaded = files.upload() \n",
        "filename = input(\"파일 이름을 입력하세요: \").strip()\n",
        "infile = open(filename, \"r\")\n",
        "count = 0\n",
        "for line in infile:\n",
        "  for ch in line:\n",
        "    count += 1\n",
        "print(\"파일 안에는 총 \", count , \"개의 글자가 있습니다.\")\n",
        "infile.close() "
      ]
    },
    {
      "cell_type": "markdown",
      "source": [
        "2.사용자로부터 파일이름과 삭제할 문자열을 입력받는다. 파일을 열어서  사용자가 원하는문자열을 삭제한 후에 다시 파일에 쓴다"
      ],
      "metadata": {
        "id": "TaxSdgPES_zy"
      }
    },
    {
      "cell_type": "code",
      "source": [
        "infilename = input(\"파일 이름을 입력하시오: \").strip()\n",
        "infile = open(infilename, \"r\")\n",
        "file_s = infile.read()\n",
        "removed_s = input(\"삭제할 문자열을 입력하시오: \").strip()\n",
        "modified_s = file_s.replace(removed_s, \"\")\n",
        "infile.close()\n",
        "outfile = open(infilename, \"w\")\n",
        "print(modified_s, file = outfile, end = \"\")\n",
        "print(\"변경된 파일이 저장되었습니다.\")\n",
        "outfile.close()"
      ],
      "metadata": {
        "colab": {
          "base_uri": "https://localhost:8080/"
        },
        "id": "SWzlFy6qT5bI",
        "outputId": "27aabe77-8ada-4745-dae9-d29ed9dc79ec"
      },
      "execution_count": 13,
      "outputs": [
        {
          "output_type": "stream",
          "name": "stdout",
          "text": [
            "파일 이름을 입력하시오: word.txt\n",
            "삭제할 문자열을 입력하시오: attack\n",
            "변경된 파일이 저장되었습니다.\n"
          ]
        }
      ]
    },
    {
      "cell_type": "markdown",
      "source": [
        "3.사용자가 입력하는 파일에 있는 각 문자들이 나타내는 빈도를 계산하는 프로그램을 작성하라"
      ],
      "metadata": {
        "id": "PbVmiMZ_URMw"
      }
    },
    {
      "cell_type": "code",
      "source": [
        "infile = open(filename, \"r\")\n",
        "for line in infile:\n",
        "  ...\n",
        "def countLine(line, counter):\n",
        "  for ch in line:\n",
        "    if ch.isalpha():\n",
        "      if ch in counter:\n",
        "        counter[ch] = counter[ch] + 1\n",
        "      else:\n",
        "        counter[ch] = 1\n",
        "fname = input(\"입력 파일 이름: \").strip()\n",
        "infile = open(fname, \"r\")\n",
        "my_dict = { }\n",
        "for line in infile:\n",
        "  countLine(line, my_dict)\n",
        "print(my_dict)\n",
        "infile.close()"
      ],
      "metadata": {
        "colab": {
          "base_uri": "https://localhost:8080/"
        },
        "id": "agyufByKUksx",
        "outputId": "a29af1cf-07e7-48d8-f41e-4c66956980fe"
      },
      "execution_count": 6,
      "outputs": [
        {
          "output_type": "stream",
          "name": "stdout",
          "text": [
            "입력 파일 이름: word.txt\n",
            "{'a': 40, 'd': 7, 'v': 1, 'n': 13, 'c': 10, 'e': 15, 'r': 13, 'm': 5, 'g': 3, 'i': 11, 't': 14, 'l': 7, 'w': 2, 'b': 1, 'u': 4, 's': 5, 'p': 7, 'o': 5, 'f': 2, 'h': 1, 'y': 2}\n"
          ]
        }
      ]
    },
    {
      "cell_type": "markdown",
      "source": [
        "4.파이썬에서는 객체를 파일에 저장할수있다. pickle모듈을 사용하여서 정수12. 실수 3.14 리스트[1,2,3,4,5]를 이진파일 \"text.dat\"에 저장하였다가 다시 읽는 프로그램을 작성하고 테스트하라"
      ],
      "metadata": {
        "id": "ZJtYrMZ-U0yh"
      }
    },
    {
      "cell_type": "code",
      "source": [
        "import pickle\n",
        "outfile = open(\"test.dat\", \"wb\")\n",
        "pickle.dump(12, outfile)\n",
        "pickle.dump(3.14, outfile)\n",
        "pickle.dump([1, 2, 3, 4, 5], outfile)\n",
        "outfile.close()\n",
        "infile = open(\"test.dat\", \"rb\")\n",
        "print(pickle.load(infile))\n",
        "print(pickle.load(infile))\n",
        "print(pickle.load(infile))\n",
        "infile.close() "
      ],
      "metadata": {
        "colab": {
          "base_uri": "https://localhost:8080/"
        },
        "id": "VPYphVEcVL8x",
        "outputId": "94586a34-4647-4b3c-ae2d-81bdcdd10b33"
      },
      "execution_count": 7,
      "outputs": [
        {
          "output_type": "stream",
          "name": "stdout",
          "text": [
            "12\n",
            "3.14\n",
            "[1, 2, 3, 4, 5]\n"
          ]
        }
      ]
    },
    {
      "cell_type": "markdown",
      "source": [
        "5.텍스트파일 \"data.txt\"에 실수값들이 정장되어 있다고 가정하자. 한줄에 하나의 실수만저장되어 있다 예를 들면 다음과 같다\n",
        "이ㅏ 파일을 읽어서 합계와 평균을 계산한후에 이것을 \"output.txt\"파일에 다음과 같이 저장하는 프로그램을 작성하라"
      ],
      "metadata": {
        "id": "VtV1ua5fVOwC"
      }
    },
    {
      "cell_type": "code",
      "source": [
        "inFileName = input(\"입력 파일 이름: \")\n",
        "outFileName = input(\"출력 파일 이름: \")\n",
        "infile = open(inFileName, \"r\")\n",
        "outfile = open(outFileName, \"w\")\n",
        "total = 0.0\n",
        "count = 0\n",
        "line = infile.readline()\n",
        "while line != \"\" :\n",
        "  value = float(line)\n",
        "  total = total + value\n",
        "  count = count + 1\n",
        "  line = infile.readline()\n",
        "outfile.write(\"합계=\"+ str(total)+\"\\n\")\n",
        "avg = total / count\n",
        "outfile.write(\"평균=\"+ str(avg)+\"\\n\")\n",
        "infile.close()\n",
        "outfile.close()"
      ],
      "metadata": {
        "id": "LsK3_LbkZ_9c"
      },
      "execution_count": null,
      "outputs": []
    },
    {
      "cell_type": "markdown",
      "source": [
        "6.tkinter를 사용하여 다음과 같은 사용자 인터페이스를 만든다 \"추가\" 버튼을 누르면 사용자가 입력한 이름과 전화 번호 리스트 파일\"phone_book.dat\"에 저장된다.\"파일읽기\"를 누르면 파일 \"phone_book.dat\"에서 이름과 전화번호를 읽어오는 프로그램을작성하라"
      ],
      "metadata": {
        "id": "-8S1zrN4W81y"
      }
    },
    {
      "cell_type": "code",
      "source": [
        "import pickle\n",
        "from tkinter import *\n",
        "phone_book = { }\n",
        "current = 0\n",
        "name = \"\"\n",
        "phone = \"\"\n",
        "window = Tk()\n",
        "frame1 = Frame(window)\n",
        "frame1.pack()\n",
        "Label(frame1, text = \"이름 \").grid(row = 1, column = 1, sticky = W)\n",
        "nameEntry = Entry(frame1, textvariable = name, width = 30)\n",
        "nameEntry.grid(row = 1, column = 2)\n",
        "frame2 = Frame(window)\n",
        "frame2.pack()\n",
        "Label(frame2, text = \"전화번호\").grid(row = 1, column = 1, sticky = W)\n",
        "phoneEntry = Entry(frame2, textvariable = phone, width = 30)\n",
        "phoneEntry.grid(row = 1, column = 2)\n",
        "frame3 = Frame(window)\n",
        "frame3.pack()\n",
        "def save():\n",
        "  outfile = open(\"phonebook.dat\", \"wb\")\n",
        "  pickle.dump(phone_book, outfile)\n",
        "  print(\"주소들이 파일에 저장되었습니다\")\n",
        "  outfile.close()\n",
        "def load():\n",
        "  infile = open(\"phonebook.dat\", \"rb\")\n",
        "  phone_book = pickle.load(infile)\n",
        "  infile.close()\n",
        "  print(\"파일에서 주소를 읽었습니다.\")\n",
        "  go_first()\n",
        "def add():\n",
        "  phone_book[nameEntry.get()] = phoneEntry.get()\n",
        "  print(phone_book)\n",
        "  save()\n",
        "def go_first():\n",
        "  global current\n",
        "  current = 0\n",
        "  ks = list(phone_book)\n",
        "  print(phone_book)\n",
        "  nameEntry.delete(0, END)\n",
        "  nameEntry.insert(0, ks[current])\n",
        "  phoneEntry.delete(0, END)\n",
        "  phoneEntry.insert(0, phone_book[ks[current]])\n",
        "def go_next():\n",
        "  global current\n",
        "  current += 1\n",
        "  ks = list(phone_book)\n",
        "  nameEntry.delete(0, END)\n",
        "  nameEntry.insert(0, ks[current])\n",
        "  phoneEntry.delete(0, END)\n",
        "  phoneEntry.insert(0, phone_book[ks[current]])\n",
        "def go_previous():\n",
        "  print(\"구현되지 않았음\")\n",
        "def go_last():\n",
        "  print(\"구현되지 않았음\")\n",
        "b1 = Button(frame3, text = \"추가\", command = add).grid(row = 1, column = 1)\n",
        "b2 = Button(frame3, text = \"처음\", command = go_first).grid(row = 1, column = 2)\n",
        "b3 = Button(frame3, text = \"다음\", command = go_next).grid(row = 1, column = 3)\n",
        "b4 = Button(frame3, text = \"이전\", command =go_previous).grid(row = 1, column = 4)\n",
        "b5 = Button(frame3, text = \"마지막\", command = go_last).grid(row = 1, column = 5)\n",
        "b6 = Button(frame3, text = \"파일 읽기\", command = load).grid(row = 1, column = 6)\n",
        "window.mainloop()"
      ],
      "metadata": {
        "id": "xie0ki-cXjHV"
      },
      "execution_count": null,
      "outputs": []
    }
  ]
}